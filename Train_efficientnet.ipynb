{
 "cells": [
  {
   "cell_type": "markdown",
   "metadata": {},
   "source": [
    "## Import package and Setting"
   ]
  },
  {
   "cell_type": "code",
   "execution_count": 1,
   "metadata": {},
   "outputs": [],
   "source": [
    "import os\n",
    "import numpy as np\n",
    "import tensorflow as tf\n",
    "import random\n",
    "import pathlib\n",
    "import tensorflow_addons as tfa\n",
    "import efficientnet.tfkeras\n",
    "from IPython.core.display import display, HTML "
   ]
  },
  {
   "cell_type": "code",
   "execution_count": 2,
   "metadata": {},
   "outputs": [
    {
     "data": {
      "text/html": [
       "<style>.container { width:98% !important; }</style>"
      ],
      "text/plain": [
       "<IPython.core.display.HTML object>"
      ]
     },
     "metadata": {},
     "output_type": "display_data"
    }
   ],
   "source": [
    "os.environ[\"CUDA_VISIBLE_DEVICES\"] = \"14,15\"\n",
    "gpus = tf.config.experimental.list_physical_devices(\"GPU\")\n",
    "tf.config.experimental.set_memory_growth(gpus[0], True)\n",
    "tf.config.experimental.set_memory_growth(gpus[1], True)\n",
    "display(HTML(\"<style>.container { width:98% !important; }</style>\")) "
   ]
  },
  {
   "cell_type": "markdown",
   "metadata": {},
   "source": [
    "## Load image data"
   ]
  },
  {
   "cell_type": "code",
   "execution_count": 3,
   "metadata": {},
   "outputs": [],
   "source": [
    "data_path = \"flower_photos/\""
   ]
  },
  {
   "cell_type": "code",
   "execution_count": 4,
   "metadata": {},
   "outputs": [],
   "source": [
    "data_root = pathlib.Path(data_path)"
   ]
  },
  {
   "cell_type": "code",
   "execution_count": 5,
   "metadata": {},
   "outputs": [
    {
     "name": "stdout",
     "output_type": "stream",
     "text": [
      "label names: ['daisy', 'dandelion', 'roses', 'sunflowers', 'tulips']\n",
      "label to index: {'daisy': 0, 'dandelion': 1, 'roses': 2, 'sunflowers': 3, 'tulips': 4}\n"
     ]
    }
   ],
   "source": [
    "label_names = sorted(item.name for item in data_root.glob(\"*/\") if item.is_dir())\n",
    "label_to_index = dict((name, index) for index, name in enumerate(label_names))\n",
    "print(\"label names:\", label_names)\n",
    "print(\"label to index:\", label_to_index)"
   ]
  },
  {
   "cell_type": "code",
   "execution_count": 6,
   "metadata": {},
   "outputs": [],
   "source": [
    "all_image_paths = list(data_root.glob(\"*/*\"))\n",
    "all_image_paths = [str(path) for path in all_image_paths]"
   ]
  },
  {
   "cell_type": "code",
   "execution_count": 7,
   "metadata": {},
   "outputs": [],
   "source": [
    "random.shuffle(all_image_paths)"
   ]
  },
  {
   "cell_type": "code",
   "execution_count": 8,
   "metadata": {},
   "outputs": [],
   "source": [
    "train_image_paths = all_image_paths[500:]\n",
    "valid_image_paths = all_image_paths[:500]"
   ]
  },
  {
   "cell_type": "code",
   "execution_count": 9,
   "metadata": {},
   "outputs": [],
   "source": [
    "AUTOTUNE = tf.data.experimental.AUTOTUNE"
   ]
  },
  {
   "cell_type": "code",
   "execution_count": 10,
   "metadata": {},
   "outputs": [],
   "source": [
    "def preprocessing_image(image):\n",
    "    image = tf.image.decode_jpeg(image, channels=3)\n",
    "    image = tf.image.resize(image, tf.random.uniform([2], minval=224, maxval=256, dtype=tf.int32))\n",
    "    image = tf.image.random_crop(image ,[224, 224, 3])\n",
    "    image = tf.image.random_flip_left_right(image)\n",
    "    image = tf.image.random_flip_up_down(image)\n",
    "    image = tfa.image.rotate(image, tf.random.uniform([], -30, 30))\n",
    "    \n",
    "    image -= tf.reduce_mean(image)\n",
    "    image /= (tf.math.reduce_std(image)+1e-6)\n",
    "    return image"
   ]
  },
  {
   "cell_type": "code",
   "execution_count": 11,
   "metadata": {},
   "outputs": [],
   "source": [
    "def load_and_preprocessing_image(path):\n",
    "    image = tf.io.read_file(path)\n",
    "    return preprocessing_image(image)"
   ]
  },
  {
   "cell_type": "code",
   "execution_count": 12,
   "metadata": {},
   "outputs": [],
   "source": [
    "def dataset_generate(image_paths, batch_size, label_to_index, AUTOTUNE):\n",
    "    image_labels = [label_to_index[pathlib.Path(path).parent.name] for path in image_paths]\n",
    "    path_ds = tf.data.Dataset.from_tensor_slices(image_paths)\n",
    "    image_ds = path_ds.map(load_and_preprocessing_image, num_parallel_calls=AUTOTUNE)\n",
    "    label_ds = tf.data.Dataset.from_tensor_slices(tf.cast(image_labels, tf.float32))\n",
    "    image_label_ds = tf.data.Dataset.zip((image_ds, label_ds))\n",
    "    image_counts = len(image_paths)\n",
    "    print(\"Step:\", int(image_counts/batch_size))\n",
    "    image_label_ds = image_label_ds.shuffle(buffer_size=image_counts).repeat().batch(batch_size).prefetch(buffer_size=AUTOTUNE)\n",
    "    return image_label_ds"
   ]
  },
  {
   "cell_type": "code",
   "execution_count": 13,
   "metadata": {},
   "outputs": [
    {
     "name": "stdout",
     "output_type": "stream",
     "text": [
      "Step: 198\n",
      "Step: 31\n"
     ]
    }
   ],
   "source": [
    "train_datasets = dataset_generate(train_image_paths, 16, label_to_index, AUTOTUNE)\n",
    "valid_datasets = dataset_generate(valid_image_paths, 16, label_to_index, AUTOTUNE)"
   ]
  },
  {
   "cell_type": "markdown",
   "metadata": {},
   "source": [
    "## Build Model"
   ]
  },
  {
   "cell_type": "code",
   "execution_count": 14,
   "metadata": {},
   "outputs": [],
   "source": [
    "strategy = tf.distribute.MirroredStrategy()"
   ]
  },
  {
   "cell_type": "code",
   "execution_count": 15,
   "metadata": {},
   "outputs": [
    {
     "name": "stdout",
     "output_type": "stream",
     "text": [
      "INFO:tensorflow:Reduce to /job:localhost/replica:0/task:0/device:CPU:0 then broadcast to ('/job:localhost/replica:0/task:0/device:CPU:0',).\n",
      "INFO:tensorflow:Reduce to /job:localhost/replica:0/task:0/device:CPU:0 then broadcast to ('/job:localhost/replica:0/task:0/device:CPU:0',).\n",
      "INFO:tensorflow:Reduce to /job:localhost/replica:0/task:0/device:CPU:0 then broadcast to ('/job:localhost/replica:0/task:0/device:CPU:0',).\n",
      "INFO:tensorflow:Reduce to /job:localhost/replica:0/task:0/device:CPU:0 then broadcast to ('/job:localhost/replica:0/task:0/device:CPU:0',).\n",
      "INFO:tensorflow:Reduce to /job:localhost/replica:0/task:0/device:CPU:0 then broadcast to ('/job:localhost/replica:0/task:0/device:CPU:0',).\n",
      "INFO:tensorflow:Reduce to /job:localhost/replica:0/task:0/device:CPU:0 then broadcast to ('/job:localhost/replica:0/task:0/device:CPU:0',).\n",
      "INFO:tensorflow:Reduce to /job:localhost/replica:0/task:0/device:CPU:0 then broadcast to ('/job:localhost/replica:0/task:0/device:CPU:0',).\n",
      "INFO:tensorflow:Reduce to /job:localhost/replica:0/task:0/device:CPU:0 then broadcast to ('/job:localhost/replica:0/task:0/device:CPU:0',).\n",
      "INFO:tensorflow:Reduce to /job:localhost/replica:0/task:0/device:CPU:0 then broadcast to ('/job:localhost/replica:0/task:0/device:CPU:0',).\n",
      "INFO:tensorflow:Reduce to /job:localhost/replica:0/task:0/device:CPU:0 then broadcast to ('/job:localhost/replica:0/task:0/device:CPU:0',).\n",
      "WARNING:tensorflow:No training configuration found in save file: the model was *not* compiled. Compile it manually.\n"
     ]
    }
   ],
   "source": [
    "with strategy.scope():\n",
    "    model = tf.keras.Sequential()\n",
    "    conv_base = tf.keras.models.load_model(\"/raid/peterchen/Python_Tool/efficientnet_weight/no_top/EfficientNetB0.h5\")\n",
    "    model.add(conv_base)\n",
    "    model.add(tf.keras.layers.GlobalAvgPool2D())\n",
    "    model.add(tf.keras.layers.Dense(5, activation=\"softmax\"))\n",
    "    model.compile(loss=tf.keras.losses.SparseCategoricalCrossentropy(), \n",
    "                  optimizer=tf.keras.optimizers.Adam(),\n",
    "                  metrics=[\"acc\"])"
   ]
  },
  {
   "cell_type": "code",
   "execution_count": 16,
   "metadata": {},
   "outputs": [
    {
     "name": "stdout",
     "output_type": "stream",
     "text": [
      "Model: \"sequential\"\n",
      "_________________________________________________________________\n",
      "Layer (type)                 Output Shape              Param #   \n",
      "=================================================================\n",
      "efficientnet-b0 (Model)      (None, None, None, 1280)  4049564   \n",
      "_________________________________________________________________\n",
      "global_average_pooling2d (Gl (None, 1280)              0         \n",
      "_________________________________________________________________\n",
      "dense (Dense)                (None, 5)                 6405      \n",
      "=================================================================\n",
      "Total params: 4,055,969\n",
      "Trainable params: 4,013,953\n",
      "Non-trainable params: 42,016\n",
      "_________________________________________________________________\n"
     ]
    }
   ],
   "source": [
    "model.summary()"
   ]
  },
  {
   "cell_type": "markdown",
   "metadata": {},
   "source": [
    "## Training"
   ]
  },
  {
   "cell_type": "code",
   "execution_count": 17,
   "metadata": {},
   "outputs": [
    {
     "name": "stdout",
     "output_type": "stream",
     "text": [
      "Train for 1200 steps, validate for 50 steps\n",
      "Epoch 1/30\n",
      "INFO:tensorflow:batch_all_reduce: 213 all-reduces with algorithm = nccl, num_packs = 1, agg_small_grads_max_bytes = 0 and agg_small_grads_max_group = 10\n",
      "INFO:tensorflow:batch_all_reduce: 213 all-reduces with algorithm = nccl, num_packs = 1, agg_small_grads_max_bytes = 0 and agg_small_grads_max_group = 10\n",
      "1200/1200 [==============================] - 123s 102ms/step - loss: 0.4024 - acc: 0.8549 - val_loss: 0.3379 - val_acc: 0.8938\n",
      "Epoch 2/30\n",
      "1200/1200 [==============================] - 82s 68ms/step - loss: 0.2317 - acc: 0.9171 - val_loss: 0.2869 - val_acc: 0.9112\n",
      "Epoch 3/30\n",
      "1200/1200 [==============================] - 82s 68ms/step - loss: 0.1847 - acc: 0.9339 - val_loss: 0.3602 - val_acc: 0.8775\n",
      "Epoch 4/30\n",
      "1200/1200 [==============================] - 82s 68ms/step - loss: 0.1497 - acc: 0.9454 - val_loss: 0.4625 - val_acc: 0.8863\n",
      "Epoch 5/30\n",
      "1200/1200 [==============================] - 82s 68ms/step - loss: 0.1324 - acc: 0.9540 - val_loss: 0.2908 - val_acc: 0.9250\n",
      "Epoch 6/30\n",
      "1200/1200 [==============================] - 82s 68ms/step - loss: 0.1106 - acc: 0.9606 - val_loss: 0.2540 - val_acc: 0.9300\n",
      "Epoch 7/30\n",
      "1200/1200 [==============================] - 82s 68ms/step - loss: 0.1029 - acc: 0.9646 - val_loss: 0.3207 - val_acc: 0.9237\n",
      "Epoch 8/30\n",
      "1200/1200 [==============================] - 81s 68ms/step - loss: 0.0950 - acc: 0.9660 - val_loss: 0.2639 - val_acc: 0.9137\n",
      "Epoch 9/30\n",
      "1200/1200 [==============================] - 82s 68ms/step - loss: 0.0845 - acc: 0.9697 - val_loss: 0.2538 - val_acc: 0.9237\n",
      "Epoch 10/30\n",
      "1200/1200 [==============================] - 82s 68ms/step - loss: 0.0823 - acc: 0.9718 - val_loss: 0.4873 - val_acc: 0.8988\n",
      "Epoch 11/30\n",
      "1200/1200 [==============================] - 82s 68ms/step - loss: 0.0652 - acc: 0.9771 - val_loss: 0.3762 - val_acc: 0.9075\n",
      "Epoch 12/30\n",
      "1200/1200 [==============================] - 82s 68ms/step - loss: 0.0718 - acc: 0.9746 - val_loss: 0.5069 - val_acc: 0.8913\n",
      "Epoch 13/30\n",
      "1200/1200 [==============================] - 82s 68ms/step - loss: 0.0593 - acc: 0.9799 - val_loss: 0.4064 - val_acc: 0.9087\n",
      "Epoch 14/30\n",
      "1200/1200 [==============================] - 82s 68ms/step - loss: 0.0686 - acc: 0.9767 - val_loss: 0.3613 - val_acc: 0.9013\n",
      "Epoch 15/30\n",
      "1200/1200 [==============================] - 81s 68ms/step - loss: 0.0492 - acc: 0.9832 - val_loss: 0.3565 - val_acc: 0.9225\n",
      "Epoch 16/30\n",
      "1200/1200 [==============================] - 81s 68ms/step - loss: 0.0584 - acc: 0.9813 - val_loss: 0.3319 - val_acc: 0.9212\n",
      "Epoch 17/30\n",
      "1200/1200 [==============================] - 82s 68ms/step - loss: 0.0508 - acc: 0.9821 - val_loss: 0.2914 - val_acc: 0.9237\n",
      "Epoch 18/30\n",
      "1200/1200 [==============================] - 82s 68ms/step - loss: 0.0507 - acc: 0.9823 - val_loss: 0.2872 - val_acc: 0.9300\n",
      "Epoch 19/30\n",
      "1200/1200 [==============================] - 83s 69ms/step - loss: 0.0484 - acc: 0.9843 - val_loss: 0.3167 - val_acc: 0.9300\n",
      "Epoch 20/30\n",
      "1200/1200 [==============================] - 85s 71ms/step - loss: 0.0433 - acc: 0.9845 - val_loss: 0.3088 - val_acc: 0.9350\n",
      "Epoch 21/30\n",
      "1200/1200 [==============================] - 82s 69ms/step - loss: 0.0496 - acc: 0.9835 - val_loss: 0.3911 - val_acc: 0.9137\n",
      "Epoch 22/30\n",
      "1200/1200 [==============================] - 82s 68ms/step - loss: 0.0384 - acc: 0.9872 - val_loss: 0.3232 - val_acc: 0.9350\n",
      "Epoch 23/30\n",
      "1200/1200 [==============================] - 82s 68ms/step - loss: 0.0445 - acc: 0.9856 - val_loss: 0.3809 - val_acc: 0.9162\n",
      "Epoch 24/30\n",
      "1200/1200 [==============================] - 82s 68ms/step - loss: 0.0391 - acc: 0.9868 - val_loss: 0.4079 - val_acc: 0.9038\n",
      "Epoch 25/30\n",
      "1200/1200 [==============================] - 82s 68ms/step - loss: 0.0362 - acc: 0.9880 - val_loss: 0.6104 - val_acc: 0.9125\n",
      "Epoch 26/30\n",
      "1200/1200 [==============================] - 82s 68ms/step - loss: 0.0421 - acc: 0.9862 - val_loss: 0.3547 - val_acc: 0.9287\n",
      "Epoch 27/30\n",
      "1200/1200 [==============================] - 81s 68ms/step - loss: 0.0365 - acc: 0.9880 - val_loss: 0.3159 - val_acc: 0.9200\n",
      "Epoch 28/30\n",
      "1200/1200 [==============================] - 82s 68ms/step - loss: 0.0348 - acc: 0.9880 - val_loss: 0.3674 - val_acc: 0.9175\n",
      "Epoch 29/30\n",
      "1200/1200 [==============================] - 81s 68ms/step - loss: 0.0324 - acc: 0.9901 - val_loss: 0.4463 - val_acc: 0.9150\n",
      "Epoch 30/30\n",
      "1200/1200 [==============================] - 82s 68ms/step - loss: 0.0359 - acc: 0.9880 - val_loss: 0.3704 - val_acc: 0.9137\n"
     ]
    },
    {
     "data": {
      "text/plain": [
       "<tensorflow.python.keras.callbacks.History at 0x7f80b435c7d0>"
      ]
     },
     "execution_count": 17,
     "metadata": {},
     "output_type": "execute_result"
    }
   ],
   "source": [
    "model.fit(train_datasets, steps_per_epoch=1200, \n",
    "          validation_data=valid_datasets, validation_steps=50,\n",
    "          epochs=30, verbose=1, shuffle=True)"
   ]
  },
  {
   "cell_type": "markdown",
   "metadata": {},
   "source": [
    "## Save model"
   ]
  },
  {
   "cell_type": "code",
   "execution_count": 18,
   "metadata": {},
   "outputs": [],
   "source": [
    "model.save(\"flower_efficientnet.h5\", include_optimizer=False)"
   ]
  }
 ],
 "metadata": {
  "kernelspec": {
   "display_name": "Python 3",
   "language": "python",
   "name": "python3"
  },
  "language_info": {
   "codemirror_mode": {
    "name": "ipython",
    "version": 3
   },
   "file_extension": ".py",
   "mimetype": "text/x-python",
   "name": "python",
   "nbconvert_exporter": "python",
   "pygments_lexer": "ipython3",
   "version": "3.7.5"
  }
 },
 "nbformat": 4,
 "nbformat_minor": 2
}
