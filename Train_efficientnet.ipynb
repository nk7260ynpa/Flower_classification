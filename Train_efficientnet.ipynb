{
 "cells": [
  {
   "cell_type": "markdown",
   "metadata": {},
   "source": [
    "## Import package and Setting"
   ]
  },
  {
   "cell_type": "code",
   "execution_count": 1,
   "metadata": {},
   "outputs": [],
   "source": [
    "import os\n",
    "import numpy as np\n",
    "import tensorflow as tf\n",
    "import random\n",
    "import pathlib\n",
    "import tensorflow_addons as tfa\n",
    "from  efficientnet import tfkeras\n",
    "from IPython.core.display import display, HTML "
   ]
  },
  {
   "cell_type": "code",
   "execution_count": 2,
   "metadata": {},
   "outputs": [
    {
     "data": {
      "text/html": [
       "<style>.container { width:98% !important; }</style>"
      ],
      "text/plain": [
       "<IPython.core.display.HTML object>"
      ]
     },
     "metadata": {},
     "output_type": "display_data"
    }
   ],
   "source": [
    "os.environ[\"CUDA_VISIBLE_DEVICES\"] = \"8,9\"\n",
    "gpus = tf.config.experimental.list_physical_devices(\"GPU\")\n",
    "tf.config.experimental.set_memory_growth(gpus[0], True)\n",
    "tf.config.experimental.set_memory_growth(gpus[1], True)\n",
    "display(HTML(\"<style>.container { width:98% !important; }</style>\")) "
   ]
  },
  {
   "cell_type": "markdown",
   "metadata": {},
   "source": [
    "## Setting Distribute Strategy"
   ]
  },
  {
   "cell_type": "code",
   "execution_count": 3,
   "metadata": {},
   "outputs": [],
   "source": [
    "strategy = tf.distribute.MirroredStrategy()"
   ]
  },
  {
   "cell_type": "code",
   "execution_count": 4,
   "metadata": {},
   "outputs": [
    {
     "name": "stdout",
     "output_type": "stream",
     "text": [
      "Number of GPU:  2\n"
     ]
    }
   ],
   "source": [
    "print(\"Number of GPU: \", strategy.num_replicas_in_sync)"
   ]
  },
  {
   "cell_type": "code",
   "execution_count": 5,
   "metadata": {},
   "outputs": [],
   "source": [
    "BATCH_SIZE_PER_REPLICA = 16\n",
    "GLOBAL_BATCH_SIZE = BATCH_SIZE_PER_REPLICA * strategy.num_replicas_in_sync"
   ]
  },
  {
   "cell_type": "markdown",
   "metadata": {},
   "source": [
    "## Load image data"
   ]
  },
  {
   "cell_type": "code",
   "execution_count": 6,
   "metadata": {},
   "outputs": [],
   "source": [
    "data_path = \"flower_photos/\""
   ]
  },
  {
   "cell_type": "code",
   "execution_count": 7,
   "metadata": {},
   "outputs": [],
   "source": [
    "data_root = pathlib.Path(data_path)"
   ]
  },
  {
   "cell_type": "code",
   "execution_count": 8,
   "metadata": {},
   "outputs": [
    {
     "name": "stdout",
     "output_type": "stream",
     "text": [
      "label names: ['daisy', 'dandelion', 'roses', 'sunflowers', 'tulips']\n",
      "label to index: {'daisy': 0, 'dandelion': 1, 'roses': 2, 'sunflowers': 3, 'tulips': 4}\n"
     ]
    }
   ],
   "source": [
    "label_names = sorted(item.name for item in data_root.glob(\"*/\") if item.is_dir())\n",
    "label_to_index = dict((name, index) for index, name in enumerate(label_names))\n",
    "print(\"label names:\", label_names)\n",
    "print(\"label to index:\", label_to_index)"
   ]
  },
  {
   "cell_type": "code",
   "execution_count": 9,
   "metadata": {},
   "outputs": [],
   "source": [
    "all_image_paths = list(data_root.glob(\"*/*\"))\n",
    "all_image_paths = [str(path) for path in all_image_paths]"
   ]
  },
  {
   "cell_type": "code",
   "execution_count": 10,
   "metadata": {},
   "outputs": [],
   "source": [
    "random.shuffle(all_image_paths)"
   ]
  },
  {
   "cell_type": "code",
   "execution_count": 11,
   "metadata": {},
   "outputs": [],
   "source": [
    "train_image_paths = all_image_paths[500:]\n",
    "valid_image_paths = all_image_paths[:500]"
   ]
  },
  {
   "cell_type": "code",
   "execution_count": 12,
   "metadata": {},
   "outputs": [],
   "source": [
    "AUTOTUNE = tf.data.experimental.AUTOTUNE"
   ]
  },
  {
   "cell_type": "code",
   "execution_count": 13,
   "metadata": {},
   "outputs": [],
   "source": [
    "def preprocessing_image(image):\n",
    "    image = tf.image.decode_jpeg(image, channels=3)\n",
    "    image = tf.image.resize(image, tf.random.uniform([2], minval=224, maxval=256, dtype=tf.int32))\n",
    "    image = tf.image.random_crop(image ,[224, 224, 3])\n",
    "    image = tf.image.random_flip_left_right(image)\n",
    "    image = tf.image.random_flip_up_down(image)\n",
    "    image = tfa.image.rotate(image, tf.random.uniform([], -30, 30))\n",
    "    \n",
    "    image -= tf.reduce_mean(image)\n",
    "    image /= (tf.math.reduce_std(image)+1e-6)\n",
    "    return image"
   ]
  },
  {
   "cell_type": "code",
   "execution_count": 14,
   "metadata": {},
   "outputs": [],
   "source": [
    "def load_and_preprocessing_image(path):\n",
    "    image = tf.io.read_file(path)\n",
    "    return preprocessing_image(image)"
   ]
  },
  {
   "cell_type": "code",
   "execution_count": 15,
   "metadata": {},
   "outputs": [],
   "source": [
    "def dataset_generate(image_paths, batch_size, label_to_index, AUTOTUNE):\n",
    "    image_labels = [label_to_index[pathlib.Path(path).parent.name] for path in image_paths]\n",
    "    path_ds = tf.data.Dataset.from_tensor_slices(image_paths)\n",
    "    image_ds = path_ds.map(load_and_preprocessing_image, num_parallel_calls=AUTOTUNE)\n",
    "    label_ds = tf.data.Dataset.from_tensor_slices(tf.cast(image_labels, tf.float32))\n",
    "    image_label_ds = tf.data.Dataset.zip((image_ds, label_ds))\n",
    "    image_counts = len(image_paths)\n",
    "    print(\"Step:\", int(image_counts/batch_size))\n",
    "    image_label_ds = image_label_ds.shuffle(buffer_size=image_counts).batch(batch_size).prefetch(buffer_size=AUTOTUNE)\n",
    "    return image_label_ds"
   ]
  },
  {
   "cell_type": "code",
   "execution_count": 16,
   "metadata": {},
   "outputs": [
    {
     "name": "stdout",
     "output_type": "stream",
     "text": [
      "Step: 198\n",
      "Step: 31\n"
     ]
    }
   ],
   "source": [
    "train_datasets = dataset_generate(train_image_paths, 16, label_to_index, AUTOTUNE)\n",
    "valid_datasets = dataset_generate(valid_image_paths, 16, label_to_index, AUTOTUNE)"
   ]
  },
  {
   "cell_type": "code",
   "execution_count": 17,
   "metadata": {},
   "outputs": [],
   "source": [
    "train_dist_dataset = strategy.experimental_distribute_dataset(train_datasets)\n",
    "valid_dist_dataset = strategy.experimental_distribute_dataset(valid_datasets)"
   ]
  },
  {
   "cell_type": "markdown",
   "metadata": {},
   "source": [
    "## Build Model"
   ]
  },
  {
   "cell_type": "code",
   "execution_count": 18,
   "metadata": {},
   "outputs": [],
   "source": [
    "def create_model():\n",
    "    model = tf.keras.Sequential()\n",
    "    conv_base = tfkeras.EfficientNetB0(include_top=False, weights=\"imagenet\", input_shape=(224, 224, 3))\n",
    "    model.add(conv_base)\n",
    "    model.add(tf.keras.layers.GlobalAvgPool2D())\n",
    "    model.add(tf.keras.layers.Dense(5, activation=\"softmax\"))\n",
    "    \n",
    "    return model"
   ]
  },
  {
   "cell_type": "code",
   "execution_count": 19,
   "metadata": {},
   "outputs": [],
   "source": [
    "with strategy.scope():\n",
    "    loss_object = tf.keras.losses.SparseCategoricalCrossentropy(reduction=tf.keras.losses.Reduction.NONE)\n",
    "    def compute_loss(label, predictions):\n",
    "        per_example_loss = loss_object(label, predictions)\n",
    "        return tf.nn.compute_average_loss(per_example_loss, global_batch_size=GLOBAL_BATCH_SIZE)"
   ]
  },
  {
   "cell_type": "code",
   "execution_count": 20,
   "metadata": {},
   "outputs": [],
   "source": [
    "with strategy.scope():\n",
    "    valid_loss = tf.keras.metrics.Mean(name=\"valid_loss\")\n",
    "    train_accuracy = tf.keras.metrics.SparseCategoricalAccuracy(name=\"train_accuracy\")\n",
    "    valid_accuracy = tf.keras.metrics.SparseCategoricalAccuracy(name=\"valid_accuracy\")"
   ]
  },
  {
   "cell_type": "code",
   "execution_count": 21,
   "metadata": {},
   "outputs": [
    {
     "name": "stdout",
     "output_type": "stream",
     "text": [
      "INFO:tensorflow:Reduce to /job:localhost/replica:0/task:0/device:CPU:0 then broadcast to ('/job:localhost/replica:0/task:0/device:CPU:0',).\n",
      "INFO:tensorflow:Reduce to /job:localhost/replica:0/task:0/device:CPU:0 then broadcast to ('/job:localhost/replica:0/task:0/device:CPU:0',).\n",
      "INFO:tensorflow:Reduce to /job:localhost/replica:0/task:0/device:CPU:0 then broadcast to ('/job:localhost/replica:0/task:0/device:CPU:0',).\n",
      "INFO:tensorflow:Reduce to /job:localhost/replica:0/task:0/device:CPU:0 then broadcast to ('/job:localhost/replica:0/task:0/device:CPU:0',).\n",
      "INFO:tensorflow:Reduce to /job:localhost/replica:0/task:0/device:CPU:0 then broadcast to ('/job:localhost/replica:0/task:0/device:CPU:0',).\n",
      "INFO:tensorflow:Reduce to /job:localhost/replica:0/task:0/device:CPU:0 then broadcast to ('/job:localhost/replica:0/task:0/device:CPU:0',).\n",
      "INFO:tensorflow:Reduce to /job:localhost/replica:0/task:0/device:CPU:0 then broadcast to ('/job:localhost/replica:0/task:0/device:CPU:0',).\n",
      "INFO:tensorflow:Reduce to /job:localhost/replica:0/task:0/device:CPU:0 then broadcast to ('/job:localhost/replica:0/task:0/device:CPU:0',).\n",
      "INFO:tensorflow:Reduce to /job:localhost/replica:0/task:0/device:CPU:0 then broadcast to ('/job:localhost/replica:0/task:0/device:CPU:0',).\n",
      "INFO:tensorflow:Reduce to /job:localhost/replica:0/task:0/device:CPU:0 then broadcast to ('/job:localhost/replica:0/task:0/device:CPU:0',).\n"
     ]
    }
   ],
   "source": [
    "with strategy.scope():\n",
    "    model = create_model()\n",
    "    optimizer = tf.keras.optimizers.Adam()"
   ]
  },
  {
   "cell_type": "code",
   "execution_count": 22,
   "metadata": {},
   "outputs": [],
   "source": [
    "with strategy.scope():\n",
    "    def train_step(inputs):\n",
    "        images, labels = inputs\n",
    "        \n",
    "        with tf.GradientTape() as tape:\n",
    "            predictions = model(images, training=True)\n",
    "            loss = compute_loss(labels, predictions)\n",
    "        \n",
    "        gradients = tape.gradient(loss, model.trainable_variables)\n",
    "        optimizer.apply_gradients(zip(gradients, model.trainable_variables))\n",
    "        \n",
    "        train_accuracy.update_state(labels, predictions)\n",
    "        \n",
    "        return loss\n",
    "    \n",
    "    def valid_step(inputs):\n",
    "        images, labels = inputs\n",
    "        \n",
    "        predictions = model(images, training=False)\n",
    "        t_loss = loss_object(labels, predictions)\n",
    "        \n",
    "        valid_loss.update_state(t_loss)\n",
    "        valid_accuracy.update_state(labels, predictions)"
   ]
  },
  {
   "cell_type": "code",
   "execution_count": 23,
   "metadata": {},
   "outputs": [
    {
     "name": "stdout",
     "output_type": "stream",
     "text": [
      "INFO:tensorflow:batch_all_reduce: 213 all-reduces with algorithm = nccl, num_packs = 1, agg_small_grads_max_bytes = 0 and agg_small_grads_max_group = 10\n",
      "INFO:tensorflow:batch_all_reduce: 213 all-reduces with algorithm = nccl, num_packs = 1, agg_small_grads_max_bytes = 0 and agg_small_grads_max_group = 10\n",
      "INFO:tensorflow:batch_all_reduce: 213 all-reduces with algorithm = nccl, num_packs = 1, agg_small_grads_max_bytes = 0 and agg_small_grads_max_group = 10\n",
      "Epoch 1, Loss: 0.319, Accuracy: 76.341, Test Loss: 0.664, Test Accuracy: 81.200\n",
      "Epoch 2, Loss: 0.230, Accuracy: 83.281, Test Loss: 0.471, Test Accuracy: 86.600\n",
      "Epoch 3, Loss: 0.184, Accuracy: 87.476, Test Loss: 0.450, Test Accuracy: 87.300\n",
      "Epoch 4, Loss: 0.161, Accuracy: 87.918, Test Loss: 0.504, Test Accuracy: 82.400\n",
      "Epoch 5, Loss: 0.168, Accuracy: 87.571, Test Loss: 0.453, Test Accuracy: 84.700\n",
      "Epoch 6, Loss: 0.143, Accuracy: 89.211, Test Loss: 0.341, Test Accuracy: 89.000\n",
      "Epoch 7, Loss: 0.147, Accuracy: 89.716, Test Loss: 0.492, Test Accuracy: 83.500\n",
      "Epoch 8, Loss: 0.146, Accuracy: 88.991, Test Loss: 0.537, Test Accuracy: 83.300\n",
      "Epoch 9, Loss: 0.152, Accuracy: 89.148, Test Loss: 0.497, Test Accuracy: 83.400\n",
      "Epoch 10, Loss: 0.157, Accuracy: 87.981, Test Loss: 1.237, Test Accuracy: 77.600\n",
      "Epoch 11, Loss: 0.149, Accuracy: 89.148, Test Loss: 0.684, Test Accuracy: 85.400\n",
      "Epoch 12, Loss: 0.145, Accuracy: 89.621, Test Loss: 0.429, Test Accuracy: 85.500\n",
      "Epoch 13, Loss: 0.154, Accuracy: 87.918, Test Loss: 0.396, Test Accuracy: 87.300\n",
      "Epoch 14, Loss: 0.131, Accuracy: 90.315, Test Loss: 0.336, Test Accuracy: 89.800\n",
      "Epoch 15, Loss: 0.135, Accuracy: 90.063, Test Loss: 0.735, Test Accuracy: 73.900\n",
      "Epoch 16, Loss: 0.127, Accuracy: 90.473, Test Loss: 0.455, Test Accuracy: 85.700\n",
      "Epoch 17, Loss: 0.136, Accuracy: 90.095, Test Loss: 0.454, Test Accuracy: 84.300\n",
      "Epoch 18, Loss: 0.120, Accuracy: 91.325, Test Loss: 0.428, Test Accuracy: 87.200\n",
      "Epoch 19, Loss: 0.113, Accuracy: 91.830, Test Loss: 0.473, Test Accuracy: 86.100\n",
      "Epoch 20, Loss: 0.126, Accuracy: 90.946, Test Loss: 0.340, Test Accuracy: 89.900\n",
      "Epoch 21, Loss: 0.129, Accuracy: 90.915, Test Loss: 0.394, Test Accuracy: 85.600\n",
      "Epoch 22, Loss: 0.129, Accuracy: 90.789, Test Loss: 1.015, Test Accuracy: 82.500\n",
      "Epoch 23, Loss: 0.125, Accuracy: 90.820, Test Loss: 0.378, Test Accuracy: 87.200\n",
      "Epoch 24, Loss: 0.113, Accuracy: 91.420, Test Loss: 0.392, Test Accuracy: 86.400\n",
      "Epoch 25, Loss: 0.123, Accuracy: 90.694, Test Loss: 0.335, Test Accuracy: 87.700\n",
      "Epoch 26, Loss: 0.133, Accuracy: 89.968, Test Loss: 0.333, Test Accuracy: 87.600\n",
      "Epoch 27, Loss: 0.119, Accuracy: 91.672, Test Loss: 0.331, Test Accuracy: 88.500\n",
      "Epoch 28, Loss: 0.111, Accuracy: 92.555, Test Loss: 0.502, Test Accuracy: 84.200\n",
      "Epoch 29, Loss: 0.121, Accuracy: 90.852, Test Loss: 0.425, Test Accuracy: 86.900\n",
      "Epoch 30, Loss: 0.107, Accuracy: 91.672, Test Loss: 0.490, Test Accuracy: 87.800\n"
     ]
    }
   ],
   "source": [
    "with strategy.scope():\n",
    "    \n",
    "    @tf.function\n",
    "    def distributed_train_step(dataset_inputs):\n",
    "        per_replica_losses = strategy.experimental_run_v2(train_step, args=(dataset_inputs, ))\n",
    "        return strategy.reduce(tf.distribute.ReduceOp.SUM, per_replica_losses, axis=None)\n",
    "    \n",
    "    @tf.function\n",
    "    def distributed_valid_step(dataset_inputs):\n",
    "        return strategy.experimental_run_v2(valid_step, args=(dataset_inputs, ))\n",
    "    \n",
    "    for epoch in range(30):\n",
    "        total_loss = 0.0\n",
    "        num_batches = 0\n",
    "        for x in train_dist_dataset:\n",
    "            total_loss += distributed_train_step(x)\n",
    "            num_batches += 1\n",
    "        train_loss = total_loss / num_batches\n",
    "        \n",
    "        for x in valid_datasets:\n",
    "            distributed_valid_step(x)\n",
    "            \n",
    "        template = (\"Epoch {}, Loss: {:.3f}, Accuracy: {:.3f}, Test Loss: {:.3f}, \"\n",
    "                \"Test Accuracy: {:.3f}\")\n",
    "        print (template.format(epoch+1, train_loss,\n",
    "                               train_accuracy.result()*100, valid_loss.result(),\n",
    "                               valid_accuracy.result()*100))\n",
    "\n",
    "        valid_loss.reset_states()\n",
    "        train_accuracy.reset_states()\n",
    "        valid_accuracy.reset_states()"
   ]
  },
  {
   "cell_type": "markdown",
   "metadata": {},
   "source": [
    "## Save model"
   ]
  },
  {
   "cell_type": "code",
   "execution_count": 24,
   "metadata": {},
   "outputs": [],
   "source": [
    "model.save(\"flower_efficientnet.h5\", include_optimizer=False)"
   ]
  }
 ],
 "metadata": {
  "kernelspec": {
   "display_name": "Python 3",
   "language": "python",
   "name": "python3"
  },
  "language_info": {
   "codemirror_mode": {
    "name": "ipython",
    "version": 3
   },
   "file_extension": ".py",
   "mimetype": "text/x-python",
   "name": "python",
   "nbconvert_exporter": "python",
   "pygments_lexer": "ipython3",
   "version": "3.7.5"
  }
 },
 "nbformat": 4,
 "nbformat_minor": 2
}
