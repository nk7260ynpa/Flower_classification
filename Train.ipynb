{
 "cells": [
  {
   "cell_type": "markdown",
   "metadata": {},
   "source": [
    "## Import package and Setting"
   ]
  },
  {
   "cell_type": "code",
   "execution_count": 1,
   "metadata": {},
   "outputs": [],
   "source": [
    "import os\n",
    "import numpy as np\n",
    "import tensorflow as tf\n",
    "import random\n",
    "import pathlib\n",
    "import tensorflow_addons as tfa\n",
    "from IPython.core.display import display, HTML "
   ]
  },
  {
   "cell_type": "code",
   "execution_count": 2,
   "metadata": {},
   "outputs": [
    {
     "data": {
      "text/html": [
       "<style>.container { width:98% !important; }</style>"
      ],
      "text/plain": [
       "<IPython.core.display.HTML object>"
      ]
     },
     "metadata": {},
     "output_type": "display_data"
    }
   ],
   "source": [
    "os.environ[\"CUDA_VISIBLE_DEVICES\"] = \"13,14,15\"\n",
    "gpus = tf.config.experimental.list_physical_devices(\"GPU\")\n",
    "tf.config.experimental.set_memory_growth(gpus[0], True)\n",
    "tf.config.experimental.set_memory_growth(gpus[1], True)\n",
    "tf.config.experimental.set_memory_growth(gpus[2], True)\n",
    "display(HTML(\"<style>.container { width:98% !important; }</style>\")) "
   ]
  },
  {
   "cell_type": "markdown",
   "metadata": {},
   "source": [
    "## Load image data"
   ]
  },
  {
   "cell_type": "code",
   "execution_count": 3,
   "metadata": {},
   "outputs": [],
   "source": [
    "data_path = \"flower_photos/\""
   ]
  },
  {
   "cell_type": "code",
   "execution_count": 4,
   "metadata": {},
   "outputs": [],
   "source": [
    "data_root = pathlib.Path(data_path)"
   ]
  },
  {
   "cell_type": "code",
   "execution_count": 5,
   "metadata": {},
   "outputs": [
    {
     "name": "stdout",
     "output_type": "stream",
     "text": [
      "label names: ['daisy', 'dandelion', 'roses', 'sunflowers', 'tulips']\n",
      "label to index: {'daisy': 0, 'dandelion': 1, 'roses': 2, 'sunflowers': 3, 'tulips': 4}\n"
     ]
    }
   ],
   "source": [
    "label_names = sorted(item.name for item in data_root.glob(\"*/\") if item.is_dir())\n",
    "label_to_index = dict((name, index) for index, name in enumerate(label_names))\n",
    "print(\"label names:\", label_names)\n",
    "print(\"label to index:\", label_to_index)"
   ]
  },
  {
   "cell_type": "code",
   "execution_count": 6,
   "metadata": {},
   "outputs": [],
   "source": [
    "all_image_paths = list(data_root.glob(\"*/*\"))\n",
    "all_image_paths = [str(path) for path in all_image_paths]"
   ]
  },
  {
   "cell_type": "code",
   "execution_count": 7,
   "metadata": {},
   "outputs": [],
   "source": [
    "random.shuffle(all_image_paths)"
   ]
  },
  {
   "cell_type": "code",
   "execution_count": 8,
   "metadata": {},
   "outputs": [],
   "source": [
    "train_image_paths = all_image_paths[500:]\n",
    "valid_image_paths = all_image_paths[:500]"
   ]
  },
  {
   "cell_type": "code",
   "execution_count": 9,
   "metadata": {},
   "outputs": [],
   "source": [
    "AUTOTUNE = tf.data.experimental.AUTOTUNE"
   ]
  },
  {
   "cell_type": "code",
   "execution_count": 10,
   "metadata": {},
   "outputs": [],
   "source": [
    "def preprocessing_image(image):\n",
    "    image = tf.image.decode_jpeg(image, channels=3)\n",
    "    image = tf.image.resize(image, tf.random.uniform([2], minval=224, maxval=256, dtype=tf.int32))\n",
    "    image = tf.image.random_crop(image ,[224, 224, 3])\n",
    "    image = tf.image.random_flip_left_right(image)\n",
    "    image = tf.image.random_flip_up_down(image)\n",
    "    image = tfa.image.rotate(image, tf.random.uniform([], -30, 30))\n",
    "    \n",
    "    image -= tf.reduce_mean(image)\n",
    "    image /= (tf.math.reduce_std(image)+1e-6)\n",
    "    return image"
   ]
  },
  {
   "cell_type": "code",
   "execution_count": 11,
   "metadata": {},
   "outputs": [],
   "source": [
    "def load_and_preprocessing_image(path):\n",
    "    image = tf.io.read_file(path)\n",
    "    return preprocessing_image(image)"
   ]
  },
  {
   "cell_type": "code",
   "execution_count": 12,
   "metadata": {},
   "outputs": [],
   "source": [
    "def dataset_generate(image_paths, batch_size, label_to_index, AUTOTUNE):\n",
    "    image_labels = [label_to_index[pathlib.Path(path).parent.name] for path in image_paths]\n",
    "    path_ds = tf.data.Dataset.from_tensor_slices(image_paths)\n",
    "    image_ds = path_ds.map(load_and_preprocessing_image, num_parallel_calls=AUTOTUNE)\n",
    "    label_ds = tf.data.Dataset.from_tensor_slices(tf.cast(image_labels, tf.float32))\n",
    "    image_label_ds = tf.data.Dataset.zip((image_ds, label_ds))\n",
    "    image_counts = len(image_paths)\n",
    "    print(\"Step:\", int(image_counts/batch_size))\n",
    "    image_label_ds = image_label_ds.shuffle(buffer_size=image_counts).repeat().batch(batch_size).prefetch(buffer_size=AUTOTUNE)\n",
    "    return image_label_ds"
   ]
  },
  {
   "cell_type": "code",
   "execution_count": 13,
   "metadata": {},
   "outputs": [
    {
     "name": "stdout",
     "output_type": "stream",
     "text": [
      "Step: 132\n",
      "Step: 20\n"
     ]
    }
   ],
   "source": [
    "train_datasets = dataset_generate(train_image_paths, 24, label_to_index, AUTOTUNE)\n",
    "valid_datasets = dataset_generate(valid_image_paths, 24, label_to_index, AUTOTUNE)"
   ]
  },
  {
   "cell_type": "markdown",
   "metadata": {},
   "source": [
    "## Build Model"
   ]
  },
  {
   "cell_type": "code",
   "execution_count": 14,
   "metadata": {},
   "outputs": [],
   "source": [
    "strategy = tf.distribute.MirroredStrategy()"
   ]
  },
  {
   "cell_type": "code",
   "execution_count": 15,
   "metadata": {},
   "outputs": [
    {
     "name": "stdout",
     "output_type": "stream",
     "text": [
      "INFO:tensorflow:Reduce to /job:localhost/replica:0/task:0/device:CPU:0 then broadcast to ('/job:localhost/replica:0/task:0/device:CPU:0',).\n",
      "INFO:tensorflow:Reduce to /job:localhost/replica:0/task:0/device:CPU:0 then broadcast to ('/job:localhost/replica:0/task:0/device:CPU:0',).\n",
      "INFO:tensorflow:Reduce to /job:localhost/replica:0/task:0/device:CPU:0 then broadcast to ('/job:localhost/replica:0/task:0/device:CPU:0',).\n",
      "INFO:tensorflow:Reduce to /job:localhost/replica:0/task:0/device:CPU:0 then broadcast to ('/job:localhost/replica:0/task:0/device:CPU:0',).\n",
      "INFO:tensorflow:Reduce to /job:localhost/replica:0/task:0/device:CPU:0 then broadcast to ('/job:localhost/replica:0/task:0/device:CPU:0',).\n",
      "INFO:tensorflow:Reduce to /job:localhost/replica:0/task:0/device:CPU:0 then broadcast to ('/job:localhost/replica:0/task:0/device:CPU:0',).\n",
      "INFO:tensorflow:Reduce to /job:localhost/replica:0/task:0/device:CPU:0 then broadcast to ('/job:localhost/replica:0/task:0/device:CPU:0',).\n",
      "INFO:tensorflow:Reduce to /job:localhost/replica:0/task:0/device:CPU:0 then broadcast to ('/job:localhost/replica:0/task:0/device:CPU:0',).\n",
      "INFO:tensorflow:Reduce to /job:localhost/replica:0/task:0/device:CPU:0 then broadcast to ('/job:localhost/replica:0/task:0/device:CPU:0',).\n",
      "INFO:tensorflow:Reduce to /job:localhost/replica:0/task:0/device:CPU:0 then broadcast to ('/job:localhost/replica:0/task:0/device:CPU:0',).\n"
     ]
    }
   ],
   "source": [
    "with strategy.scope():\n",
    "    model = tf.keras.Sequential()\n",
    "    conv_base = tf.keras.applications.ResNet50(include_top=False, input_shape=(224, 224, 3))\n",
    "    model.add(conv_base)\n",
    "    model.add(tf.keras.layers.GlobalAvgPool2D())\n",
    "    model.add(tf.keras.layers.Dense(5, activation=\"softmax\"))\n",
    "    model.compile(loss=tf.keras.losses.SparseCategoricalCrossentropy(), \n",
    "                  optimizer=tf.keras.optimizers.Adam(),\n",
    "                  metrics=[\"acc\"])"
   ]
  },
  {
   "cell_type": "code",
   "execution_count": 16,
   "metadata": {},
   "outputs": [
    {
     "name": "stdout",
     "output_type": "stream",
     "text": [
      "Model: \"sequential\"\n",
      "_________________________________________________________________\n",
      "Layer (type)                 Output Shape              Param #   \n",
      "=================================================================\n",
      "resnet50 (Model)             (None, 7, 7, 2048)        23587712  \n",
      "_________________________________________________________________\n",
      "global_average_pooling2d (Gl (None, 2048)              0         \n",
      "_________________________________________________________________\n",
      "dense (Dense)                (None, 5)                 10245     \n",
      "=================================================================\n",
      "Total params: 23,597,957\n",
      "Trainable params: 23,544,837\n",
      "Non-trainable params: 53,120\n",
      "_________________________________________________________________\n"
     ]
    }
   ],
   "source": [
    "model.summary()"
   ]
  },
  {
   "cell_type": "markdown",
   "metadata": {},
   "source": [
    "## Training"
   ]
  },
  {
   "cell_type": "code",
   "execution_count": 17,
   "metadata": {},
   "outputs": [
    {
     "name": "stdout",
     "output_type": "stream",
     "text": [
      "Train for 1200 steps, validate for 50 steps\n",
      "Epoch 1/30\n",
      "INFO:tensorflow:batch_all_reduce: 214 all-reduces with algorithm = nccl, num_packs = 1, agg_small_grads_max_bytes = 0 and agg_small_grads_max_group = 10\n",
      "INFO:tensorflow:batch_all_reduce: 214 all-reduces with algorithm = nccl, num_packs = 1, agg_small_grads_max_bytes = 0 and agg_small_grads_max_group = 10\n",
      "1200/1200 [==============================] - 131s 109ms/step - loss: 0.5982 - acc: 0.7794 - val_loss: 0.5228 - val_acc: 0.8133\n",
      "Epoch 2/30\n",
      "1200/1200 [==============================] - 76s 63ms/step - loss: 0.3638 - acc: 0.8644 - val_loss: 0.5245 - val_acc: 0.8150\n",
      "Epoch 3/30\n",
      "1200/1200 [==============================] - 76s 63ms/step - loss: 0.2953 - acc: 0.8878 - val_loss: 0.3972 - val_acc: 0.8425\n",
      "Epoch 4/30\n",
      "1200/1200 [==============================] - 76s 63ms/step - loss: 0.2520 - acc: 0.9062 - val_loss: 0.4885 - val_acc: 0.8292\n",
      "Epoch 5/30\n",
      "1200/1200 [==============================] - 76s 63ms/step - loss: 0.2088 - acc: 0.9206 - val_loss: 0.6643 - val_acc: 0.8175\n",
      "Epoch 6/30\n",
      "1200/1200 [==============================] - 76s 63ms/step - loss: 0.1887 - acc: 0.9295 - val_loss: 0.3560 - val_acc: 0.8742\n",
      "Epoch 7/30\n",
      "1200/1200 [==============================] - 76s 63ms/step - loss: 0.1616 - acc: 0.9411 - val_loss: 0.5030 - val_acc: 0.8625\n",
      "Epoch 8/30\n",
      "1200/1200 [==============================] - 76s 63ms/step - loss: 0.1393 - acc: 0.9498 - val_loss: 0.3695 - val_acc: 0.8692\n",
      "Epoch 9/30\n",
      "1200/1200 [==============================] - 76s 63ms/step - loss: 0.1180 - acc: 0.9580 - val_loss: 0.5894 - val_acc: 0.8683\n",
      "Epoch 10/30\n",
      "1200/1200 [==============================] - 76s 63ms/step - loss: 0.1077 - acc: 0.9623 - val_loss: 0.3940 - val_acc: 0.8775\n",
      "Epoch 11/30\n",
      "1200/1200 [==============================] - 76s 63ms/step - loss: 0.0892 - acc: 0.9685 - val_loss: 0.5695 - val_acc: 0.8683\n",
      "Epoch 12/30\n",
      "1200/1200 [==============================] - 76s 63ms/step - loss: 0.0841 - acc: 0.9695 - val_loss: 0.4122 - val_acc: 0.8767\n",
      "Epoch 13/30\n",
      "1200/1200 [==============================] - 76s 63ms/step - loss: 0.0820 - acc: 0.9720 - val_loss: 0.4322 - val_acc: 0.8775\n",
      "Epoch 14/30\n",
      "1200/1200 [==============================] - 76s 63ms/step - loss: 0.0690 - acc: 0.9757 - val_loss: 0.4190 - val_acc: 0.8783\n",
      "Epoch 15/30\n",
      "1200/1200 [==============================] - 76s 63ms/step - loss: 0.0679 - acc: 0.9763 - val_loss: 0.3923 - val_acc: 0.8783\n",
      "Epoch 16/30\n",
      "1200/1200 [==============================] - 76s 63ms/step - loss: 0.0594 - acc: 0.9793 - val_loss: 0.6298 - val_acc: 0.8533\n",
      "Epoch 17/30\n",
      "1200/1200 [==============================] - 76s 63ms/step - loss: 0.0569 - acc: 0.9805 - val_loss: 0.3788 - val_acc: 0.8950\n",
      "Epoch 18/30\n",
      "1200/1200 [==============================] - 76s 63ms/step - loss: 0.0491 - acc: 0.9832 - val_loss: 0.4345 - val_acc: 0.8825\n",
      "Epoch 19/30\n",
      "1200/1200 [==============================] - 76s 63ms/step - loss: 0.0469 - acc: 0.9839 - val_loss: 0.6111 - val_acc: 0.8525\n",
      "Epoch 20/30\n",
      "1200/1200 [==============================] - 76s 63ms/step - loss: 0.0471 - acc: 0.9843 - val_loss: 0.4232 - val_acc: 0.8933\n",
      "Epoch 21/30\n",
      "1200/1200 [==============================] - 76s 63ms/step - loss: 0.0407 - acc: 0.9856 - val_loss: 0.6292 - val_acc: 0.8717\n",
      "Epoch 22/30\n",
      "1200/1200 [==============================] - 76s 63ms/step - loss: 0.0459 - acc: 0.9843 - val_loss: 0.3910 - val_acc: 0.8992\n",
      "Epoch 23/30\n",
      "1200/1200 [==============================] - 76s 63ms/step - loss: 0.0398 - acc: 0.9862 - val_loss: 0.4559 - val_acc: 0.8975\n",
      "Epoch 24/30\n",
      "1200/1200 [==============================] - 76s 63ms/step - loss: 0.0331 - acc: 0.9891 - val_loss: 0.6564 - val_acc: 0.8758\n",
      "Epoch 25/30\n",
      "1200/1200 [==============================] - 76s 63ms/step - loss: 0.0356 - acc: 0.9874 - val_loss: 0.4577 - val_acc: 0.8975\n",
      "Epoch 26/30\n",
      "1200/1200 [==============================] - 76s 63ms/step - loss: 0.0375 - acc: 0.9871 - val_loss: 0.5834 - val_acc: 0.8683\n",
      "Epoch 27/30\n",
      "1200/1200 [==============================] - 76s 63ms/step - loss: 0.0302 - acc: 0.9900 - val_loss: 0.4585 - val_acc: 0.8917\n",
      "Epoch 28/30\n",
      "1200/1200 [==============================] - 76s 63ms/step - loss: 0.0291 - acc: 0.9899 - val_loss: 0.5315 - val_acc: 0.8925\n",
      "Epoch 29/30\n",
      "1200/1200 [==============================] - 76s 63ms/step - loss: 0.0310 - acc: 0.9896 - val_loss: 0.5123 - val_acc: 0.8850\n",
      "Epoch 30/30\n",
      "1200/1200 [==============================] - 76s 63ms/step - loss: 0.0288 - acc: 0.9898 - val_loss: 0.6395 - val_acc: 0.8733\n"
     ]
    },
    {
     "data": {
      "text/plain": [
       "<tensorflow.python.keras.callbacks.History at 0x7fd9083f3b50>"
      ]
     },
     "execution_count": 17,
     "metadata": {},
     "output_type": "execute_result"
    }
   ],
   "source": [
    "model.fit(train_datasets, steps_per_epoch=1200, \n",
    "          validation_data=valid_datasets, validation_steps=50,\n",
    "          epochs=30, verbose=1, shuffle=True)"
   ]
  },
  {
   "cell_type": "markdown",
   "metadata": {},
   "source": [
    "## Save model"
   ]
  },
  {
   "cell_type": "code",
   "execution_count": 18,
   "metadata": {},
   "outputs": [],
   "source": [
    "model.save(\"flower.h5\", include_optimizer=False)"
   ]
  },
  {
   "cell_type": "code",
   "execution_count": null,
   "metadata": {},
   "outputs": [],
   "source": []
  }
 ],
 "metadata": {
  "kernelspec": {
   "display_name": "Python 3",
   "language": "python",
   "name": "python3"
  },
  "language_info": {
   "codemirror_mode": {
    "name": "ipython",
    "version": 3
   },
   "file_extension": ".py",
   "mimetype": "text/x-python",
   "name": "python",
   "nbconvert_exporter": "python",
   "pygments_lexer": "ipython3",
   "version": "3.7.5"
  }
 },
 "nbformat": 4,
 "nbformat_minor": 2
}
