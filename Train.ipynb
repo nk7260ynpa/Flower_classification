{
 "cells": [
  {
   "cell_type": "markdown",
   "metadata": {},
   "source": [
    "## Import package and Setting"
   ]
  },
  {
   "cell_type": "code",
   "execution_count": 1,
   "metadata": {},
   "outputs": [],
   "source": [
    "import os\n",
    "import numpy as np\n",
    "import tensorflow as tf\n",
    "import random\n",
    "import pathlib\n",
    "import tensorflow_addons as tfa\n",
    "from IPython.core.display import display, HTML "
   ]
  },
  {
   "cell_type": "code",
   "execution_count": 2,
   "metadata": {},
   "outputs": [
    {
     "data": {
      "text/html": [
       "<style>.container { width:98% !important; }</style>"
      ],
      "text/plain": [
       "<IPython.core.display.HTML object>"
      ]
     },
     "metadata": {},
     "output_type": "display_data"
    }
   ],
   "source": [
    "os.environ[\"CUDA_VISIBLE_DEVICES\"] = \"14\"\n",
    "gpus = tf.config.experimental.list_physical_devices(\"GPU\")\n",
    "tf.config.experimental.set_memory_growth(gpus[0], True)\n",
    "display(HTML(\"<style>.container { width:98% !important; }</style>\")) "
   ]
  },
  {
   "cell_type": "markdown",
   "metadata": {},
   "source": [
    "## Load image data"
   ]
  },
  {
   "cell_type": "code",
   "execution_count": 3,
   "metadata": {},
   "outputs": [],
   "source": [
    "data_path = \"flower_photos/\""
   ]
  },
  {
   "cell_type": "code",
   "execution_count": 4,
   "metadata": {},
   "outputs": [],
   "source": [
    "data_root = pathlib.Path(data_path)"
   ]
  },
  {
   "cell_type": "code",
   "execution_count": 5,
   "metadata": {},
   "outputs": [
    {
     "name": "stdout",
     "output_type": "stream",
     "text": [
      "label names: ['daisy', 'dandelion', 'roses', 'sunflowers', 'tulips']\n",
      "label to index: {'daisy': 0, 'dandelion': 1, 'roses': 2, 'sunflowers': 3, 'tulips': 4}\n"
     ]
    }
   ],
   "source": [
    "label_names = sorted(item.name for item in data_root.glob(\"*/\") if item.is_dir())\n",
    "label_to_index = dict((name, index) for index, name in enumerate(label_names))\n",
    "print(\"label names:\", label_names)\n",
    "print(\"label to index:\", label_to_index)"
   ]
  },
  {
   "cell_type": "code",
   "execution_count": 6,
   "metadata": {},
   "outputs": [],
   "source": [
    "all_image_paths = list(data_root.glob(\"*/*\"))\n",
    "all_image_paths = [str(path) for path in all_image_paths]"
   ]
  },
  {
   "cell_type": "code",
   "execution_count": 7,
   "metadata": {},
   "outputs": [],
   "source": [
    "random.shuffle(all_image_paths)"
   ]
  },
  {
   "cell_type": "code",
   "execution_count": 8,
   "metadata": {},
   "outputs": [],
   "source": [
    "train_image_paths = all_image_paths[500:]\n",
    "valid_image_paths = all_image_paths[:500]"
   ]
  },
  {
   "cell_type": "code",
   "execution_count": 9,
   "metadata": {},
   "outputs": [],
   "source": [
    "AUTOTUNE = tf.data.experimental.AUTOTUNE"
   ]
  },
  {
   "cell_type": "code",
   "execution_count": 10,
   "metadata": {},
   "outputs": [],
   "source": [
    "def preprocessing_image(image):\n",
    "    image = tf.image.decode_jpeg(image, channels=3)\n",
    "    image = tf.image.resize(image, tf.random.uniform([2], minval=224, maxval=256, dtype=tf.int32))\n",
    "    image = tf.image.random_crop(image ,[224, 224, 3])\n",
    "    image = tf.image.random_flip_left_right(image)\n",
    "    image = tf.image.random_flip_up_down(image)\n",
    "    image = tfa.image.rotate(image, tf.random.uniform([], -30, 30))\n",
    "    \n",
    "    image -= tf.reduce_mean(image)\n",
    "    image /= (tf.math.reduce_std(image)+1e-6)\n",
    "    return image"
   ]
  },
  {
   "cell_type": "code",
   "execution_count": 11,
   "metadata": {},
   "outputs": [],
   "source": [
    "def load_and_preprocessing_image(path):\n",
    "    image = tf.io.read_file(path)\n",
    "    return preprocessing_image(image)"
   ]
  },
  {
   "cell_type": "code",
   "execution_count": 12,
   "metadata": {},
   "outputs": [],
   "source": [
    "def dataset_generate(image_paths, batch_size, label_to_index, AUTOTUNE):\n",
    "    image_labels = [label_to_index[pathlib.Path(path).parent.name] for path in image_paths]\n",
    "    path_ds = tf.data.Dataset.from_tensor_slices(image_paths)\n",
    "    image_ds = path_ds.map(load_and_preprocessing_image, num_parallel_calls=AUTOTUNE)\n",
    "    label_ds = tf.data.Dataset.from_tensor_slices(tf.cast(image_labels, tf.float32))\n",
    "    image_label_ds = tf.data.Dataset.zip((image_ds, label_ds))\n",
    "    image_counts = len(image_paths)\n",
    "    print(\"Step:\", int(image_counts/batch_size))\n",
    "    image_label_ds = image_label_ds.shuffle(buffer_size=image_counts).repeat().batch(batch_size).prefetch(buffer_size=AUTOTUNE)\n",
    "    return image_label_ds"
   ]
  },
  {
   "cell_type": "code",
   "execution_count": 13,
   "metadata": {},
   "outputs": [
    {
     "name": "stdout",
     "output_type": "stream",
     "text": [
      "Step: 99\n",
      "Step: 15\n"
     ]
    }
   ],
   "source": [
    "train_datasets = dataset_generate(train_image_paths, 32, label_to_index, AUTOTUNE)\n",
    "valid_datasets = dataset_generate(valid_image_paths, 32, label_to_index, AUTOTUNE)"
   ]
  },
  {
   "cell_type": "markdown",
   "metadata": {},
   "source": [
    "## Build Model"
   ]
  },
  {
   "cell_type": "code",
   "execution_count": 14,
   "metadata": {},
   "outputs": [],
   "source": [
    "model = tf.keras.Sequential()\n",
    "conv_base = tf.keras.applications.ResNet50(include_top=False, input_shape=(224, 224, 3))\n",
    "model.add(conv_base)\n",
    "model.add(tf.keras.layers.GlobalAvgPool2D())\n",
    "model.add(tf.keras.layers.Dense(5, activation=\"softmax\"))"
   ]
  },
  {
   "cell_type": "code",
   "execution_count": 15,
   "metadata": {},
   "outputs": [],
   "source": [
    "model.compile(loss=tf.keras.losses.SparseCategoricalCrossentropy(), \n",
    "              optimizer=tf.keras.optimizers.Adam(),\n",
    "              metrics=[\"acc\"])"
   ]
  },
  {
   "cell_type": "code",
   "execution_count": 16,
   "metadata": {},
   "outputs": [
    {
     "name": "stdout",
     "output_type": "stream",
     "text": [
      "Model: \"sequential\"\n",
      "_________________________________________________________________\n",
      "Layer (type)                 Output Shape              Param #   \n",
      "=================================================================\n",
      "resnet50 (Model)             (None, 7, 7, 2048)        23587712  \n",
      "_________________________________________________________________\n",
      "global_average_pooling2d (Gl (None, 2048)              0         \n",
      "_________________________________________________________________\n",
      "dense (Dense)                (None, 5)                 10245     \n",
      "=================================================================\n",
      "Total params: 23,597,957\n",
      "Trainable params: 23,544,837\n",
      "Non-trainable params: 53,120\n",
      "_________________________________________________________________\n"
     ]
    }
   ],
   "source": [
    "model.summary()"
   ]
  },
  {
   "cell_type": "markdown",
   "metadata": {},
   "source": [
    "## Training"
   ]
  },
  {
   "cell_type": "code",
   "execution_count": 17,
   "metadata": {},
   "outputs": [
    {
     "name": "stdout",
     "output_type": "stream",
     "text": [
      "Train for 400 steps, validate for 50 steps\n",
      "Epoch 1/30\n",
      "400/400 [==============================] - 59s 147ms/step - loss: 0.6960 - acc: 0.7520 - val_loss: 3.5957 - val_acc: 0.2656\n",
      "Epoch 2/30\n",
      "400/400 [==============================] - 44s 110ms/step - loss: 0.4084 - acc: 0.8504 - val_loss: 2.4272 - val_acc: 0.6137\n",
      "Epoch 3/30\n",
      "400/400 [==============================] - 44s 110ms/step - loss: 0.3593 - acc: 0.8655 - val_loss: 0.4944 - val_acc: 0.8175\n",
      "Epoch 4/30\n",
      "400/400 [==============================] - 44s 110ms/step - loss: 0.2993 - acc: 0.8877 - val_loss: 0.4650 - val_acc: 0.8300\n",
      "Epoch 5/30\n",
      "400/400 [==============================] - 44s 110ms/step - loss: 0.2823 - acc: 0.8966 - val_loss: 0.6890 - val_acc: 0.8131\n",
      "Epoch 6/30\n",
      "400/400 [==============================] - 44s 110ms/step - loss: 0.2582 - acc: 0.9059 - val_loss: 0.5729 - val_acc: 0.8044\n",
      "Epoch 7/30\n",
      "400/400 [==============================] - 44s 110ms/step - loss: 0.2220 - acc: 0.9167 - val_loss: 0.3585 - val_acc: 0.8813\n",
      "Epoch 8/30\n",
      "400/400 [==============================] - 44s 110ms/step - loss: 0.1964 - acc: 0.9277 - val_loss: 0.4801 - val_acc: 0.8413\n",
      "Epoch 9/30\n",
      "400/400 [==============================] - 44s 110ms/step - loss: 0.1840 - acc: 0.9320 - val_loss: 0.4803 - val_acc: 0.8506\n",
      "Epoch 10/30\n",
      "400/400 [==============================] - 44s 109ms/step - loss: 0.1699 - acc: 0.9365 - val_loss: 0.6676 - val_acc: 0.8344\n",
      "Epoch 11/30\n",
      "400/400 [==============================] - 44s 110ms/step - loss: 0.1684 - acc: 0.9372 - val_loss: 0.4093 - val_acc: 0.8769\n",
      "Epoch 12/30\n",
      "400/400 [==============================] - 44s 110ms/step - loss: 0.1534 - acc: 0.9448 - val_loss: 0.5129 - val_acc: 0.8406\n",
      "Epoch 13/30\n",
      "400/400 [==============================] - 44s 110ms/step - loss: 0.1390 - acc: 0.9485 - val_loss: 0.7646 - val_acc: 0.7994\n",
      "Epoch 14/30\n",
      "400/400 [==============================] - 44s 110ms/step - loss: 0.1325 - acc: 0.9535 - val_loss: 0.5502 - val_acc: 0.8594\n",
      "Epoch 15/30\n",
      "400/400 [==============================] - 44s 110ms/step - loss: 0.1217 - acc: 0.9554 - val_loss: 0.4179 - val_acc: 0.8831\n",
      "Epoch 16/30\n",
      "400/400 [==============================] - 44s 110ms/step - loss: 0.1121 - acc: 0.9584 - val_loss: 0.4772 - val_acc: 0.8788\n",
      "Epoch 17/30\n",
      "400/400 [==============================] - 44s 110ms/step - loss: 0.1035 - acc: 0.9631 - val_loss: 0.5105 - val_acc: 0.8719\n",
      "Epoch 18/30\n",
      "400/400 [==============================] - 44s 110ms/step - loss: 0.1066 - acc: 0.9637 - val_loss: 0.3401 - val_acc: 0.8881\n",
      "Epoch 19/30\n",
      "400/400 [==============================] - 44s 110ms/step - loss: 0.0914 - acc: 0.9675 - val_loss: 0.4114 - val_acc: 0.8800\n",
      "Epoch 20/30\n",
      "400/400 [==============================] - 44s 109ms/step - loss: 0.0781 - acc: 0.9722 - val_loss: 0.6226 - val_acc: 0.8681\n",
      "Epoch 21/30\n",
      "400/400 [==============================] - 44s 110ms/step - loss: 0.0660 - acc: 0.9762 - val_loss: 0.4329 - val_acc: 0.8869\n",
      "Epoch 22/30\n",
      "400/400 [==============================] - 44s 110ms/step - loss: 0.0736 - acc: 0.9745 - val_loss: 0.5195 - val_acc: 0.8675\n",
      "Epoch 23/30\n",
      "400/400 [==============================] - 44s 110ms/step - loss: 0.0713 - acc: 0.9743 - val_loss: 0.4614 - val_acc: 0.8763\n",
      "Epoch 24/30\n",
      "400/400 [==============================] - 44s 110ms/step - loss: 0.0653 - acc: 0.9770 - val_loss: 0.5603 - val_acc: 0.8731\n",
      "Epoch 25/30\n",
      "400/400 [==============================] - 44s 110ms/step - loss: 0.0721 - acc: 0.9735 - val_loss: 0.6102 - val_acc: 0.8619\n",
      "Epoch 26/30\n",
      "400/400 [==============================] - 44s 110ms/step - loss: 0.0500 - acc: 0.9829 - val_loss: 0.4833 - val_acc: 0.8775\n",
      "Epoch 27/30\n",
      "400/400 [==============================] - 44s 109ms/step - loss: 0.0729 - acc: 0.9754 - val_loss: 1.6217 - val_acc: 0.7950\n",
      "Epoch 28/30\n",
      "400/400 [==============================] - 44s 109ms/step - loss: 0.0469 - acc: 0.9826 - val_loss: 0.4689 - val_acc: 0.8931\n",
      "Epoch 29/30\n",
      "400/400 [==============================] - 44s 109ms/step - loss: 0.0583 - acc: 0.9808 - val_loss: 0.5833 - val_acc: 0.8712\n",
      "Epoch 30/30\n",
      "400/400 [==============================] - 44s 110ms/step - loss: 0.0549 - acc: 0.9801 - val_loss: 0.5832 - val_acc: 0.8731\n"
     ]
    },
    {
     "data": {
      "text/plain": [
       "<tensorflow.python.keras.callbacks.History at 0x7fe72c2fd590>"
      ]
     },
     "execution_count": 17,
     "metadata": {},
     "output_type": "execute_result"
    }
   ],
   "source": [
    "model.fit(train_datasets, steps_per_epoch=400, \n",
    "          validation_data=valid_datasets, validation_steps=50,\n",
    "          epochs=30, verbose=1, shuffle=True)"
   ]
  },
  {
   "cell_type": "markdown",
   "metadata": {},
   "source": [
    "## Save model"
   ]
  },
  {
   "cell_type": "code",
   "execution_count": 18,
   "metadata": {},
   "outputs": [],
   "source": [
    "model.save(\"flower.h5\", include_optimizer=False)"
   ]
  },
  {
   "cell_type": "code",
   "execution_count": null,
   "metadata": {},
   "outputs": [],
   "source": []
  }
 ],
 "metadata": {
  "kernelspec": {
   "display_name": "Python 3",
   "language": "python",
   "name": "python3"
  },
  "language_info": {
   "codemirror_mode": {
    "name": "ipython",
    "version": 3
   },
   "file_extension": ".py",
   "mimetype": "text/x-python",
   "name": "python",
   "nbconvert_exporter": "python",
   "pygments_lexer": "ipython3",
   "version": "3.7.5"
  }
 },
 "nbformat": 4,
 "nbformat_minor": 2
}
