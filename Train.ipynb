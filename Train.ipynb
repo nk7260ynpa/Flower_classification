{
 "cells": [
  {
   "cell_type": "markdown",
   "metadata": {},
   "source": [
    "## Import package and Setting"
   ]
  },
  {
   "cell_type": "code",
   "execution_count": 1,
   "metadata": {},
   "outputs": [],
   "source": [
    "import os\n",
    "import numpy as np\n",
    "import tensorflow as tf\n",
    "import random\n",
    "import pathlib"
   ]
  },
  {
   "cell_type": "code",
   "execution_count": 2,
   "metadata": {},
   "outputs": [],
   "source": [
    "os.environ[\"CUDA_VISIBLE_DEVICES\"] = \"14\"\n",
    "gpus = tf.config.experimental.list_physical_devices(\"GPU\")\n",
    "tf.config.experimental.set_memory_growth(gpus[0], True)"
   ]
  },
  {
   "cell_type": "markdown",
   "metadata": {},
   "source": [
    "## Load image data"
   ]
  },
  {
   "cell_type": "code",
   "execution_count": 3,
   "metadata": {},
   "outputs": [],
   "source": [
    "data_path = \"flower_photos/\""
   ]
  },
  {
   "cell_type": "code",
   "execution_count": 4,
   "metadata": {},
   "outputs": [],
   "source": [
    "data_root = pathlib.Path(data_path)"
   ]
  },
  {
   "cell_type": "code",
   "execution_count": 5,
   "metadata": {},
   "outputs": [
    {
     "name": "stdout",
     "output_type": "stream",
     "text": [
      "label names: ['daisy', 'dandelion', 'roses', 'sunflowers', 'tulips']\n",
      "label to index: {'daisy': 0, 'dandelion': 1, 'roses': 2, 'sunflowers': 3, 'tulips': 4}\n"
     ]
    }
   ],
   "source": [
    "label_names = sorted(item.name for item in data_root.glob(\"*/\") if item.is_dir())\n",
    "label_to_index = dict((name, index) for index, name in enumerate(label_names))\n",
    "print(\"label names:\", label_names)\n",
    "print(\"label to index:\", label_to_index)"
   ]
  },
  {
   "cell_type": "code",
   "execution_count": 6,
   "metadata": {},
   "outputs": [],
   "source": [
    "all_image_paths = list(data_root.glob(\"*/*\"))\n",
    "all_image_paths = [str(path) for path in all_image_paths]"
   ]
  },
  {
   "cell_type": "code",
   "execution_count": 7,
   "metadata": {},
   "outputs": [],
   "source": [
    "random.shuffle(all_image_paths)"
   ]
  },
  {
   "cell_type": "code",
   "execution_count": 8,
   "metadata": {},
   "outputs": [],
   "source": [
    "train_image_paths = all_image_paths[500:]\n",
    "valid_image_paths = all_image_paths[:500]"
   ]
  },
  {
   "cell_type": "code",
   "execution_count": 9,
   "metadata": {},
   "outputs": [],
   "source": [
    "AUTOTUNE = tf.data.experimental.AUTOTUNE"
   ]
  },
  {
   "cell_type": "code",
   "execution_count": 10,
   "metadata": {},
   "outputs": [],
   "source": [
    "def preprocessing_image(image):\n",
    "    image = tf.image.decode_jpeg(image, channels=3)\n",
    "    image = tf.image.resize(image, [224, 224])\n",
    "    image -= tf.reduce_mean(image)\n",
    "    image /= (tf.math.reduce_std(image)+1e-5)\n",
    "    return image"
   ]
  },
  {
   "cell_type": "code",
   "execution_count": 11,
   "metadata": {},
   "outputs": [],
   "source": [
    "def load_and_preprocessing_image(path):\n",
    "    image = tf.io.read_file(path)\n",
    "    return preprocessing_image(image)"
   ]
  },
  {
   "cell_type": "code",
   "execution_count": 12,
   "metadata": {},
   "outputs": [],
   "source": [
    "def dataset_generate(image_paths, batch_size, label_to_index, AUTOTUNE):\n",
    "    image_labels = [label_to_index[pathlib.Path(path).parent.name] for path in image_paths]\n",
    "    path_ds = tf.data.Dataset.from_tensor_slices(image_paths)\n",
    "    image_ds = path_ds.map(load_and_preprocessing_image, num_parallel_calls=AUTOTUNE)\n",
    "    label_ds = tf.data.Dataset.from_tensor_slices(tf.cast(image_labels, tf.float32))\n",
    "    image_label_ds = tf.data.Dataset.zip((image_ds, label_ds))\n",
    "    image_counts = len(image_paths)\n",
    "    print(\"Step:\", int(image_counts/batch_size))\n",
    "    image_label_ds = image_label_ds.shuffle(buffer_size=image_counts).repeat().batch(batch_size).prefetch(buffer_size=AUTOTUNE)\n",
    "    return image_label_ds"
   ]
  },
  {
   "cell_type": "code",
   "execution_count": 13,
   "metadata": {},
   "outputs": [
    {
     "name": "stdout",
     "output_type": "stream",
     "text": [
      "Step: 198\n",
      "Step: 31\n"
     ]
    }
   ],
   "source": [
    "train_datasets = dataset_generate(train_image_paths, 16, label_to_index, AUTOTUNE)\n",
    "valid_datasets = dataset_generate(valid_image_paths, 16, label_to_index, AUTOTUNE)"
   ]
  },
  {
   "cell_type": "markdown",
   "metadata": {},
   "source": [
    "## Build Model"
   ]
  },
  {
   "cell_type": "code",
   "execution_count": 14,
   "metadata": {},
   "outputs": [],
   "source": [
    "model = tf.keras.Sequential()\n",
    "conv_base = tf.keras.applications.ResNet50(include_top=False, input_shape=(224, 224, 3))\n",
    "model.add(conv_base)\n",
    "model.add(tf.keras.layers.GlobalAvgPool2D())\n",
    "model.add(tf.keras.layers.Dense(5, activation=\"softmax\"))"
   ]
  },
  {
   "cell_type": "code",
   "execution_count": 15,
   "metadata": {},
   "outputs": [],
   "source": [
    "model.compile(loss=tf.keras.losses.SparseCategoricalCrossentropy(), \n",
    "              optimizer=tf.keras.optimizers.Adam(),\n",
    "              metrics=[\"acc\"])"
   ]
  },
  {
   "cell_type": "code",
   "execution_count": 16,
   "metadata": {},
   "outputs": [
    {
     "name": "stdout",
     "output_type": "stream",
     "text": [
      "Model: \"sequential\"\n",
      "_________________________________________________________________\n",
      "Layer (type)                 Output Shape              Param #   \n",
      "=================================================================\n",
      "resnet50 (Model)             (None, 7, 7, 2048)        23587712  \n",
      "_________________________________________________________________\n",
      "global_average_pooling2d (Gl (None, 2048)              0         \n",
      "_________________________________________________________________\n",
      "dense (Dense)                (None, 5)                 10245     \n",
      "=================================================================\n",
      "Total params: 23,597,957\n",
      "Trainable params: 23,544,837\n",
      "Non-trainable params: 53,120\n",
      "_________________________________________________________________\n"
     ]
    }
   ],
   "source": [
    "model.summary()"
   ]
  },
  {
   "cell_type": "markdown",
   "metadata": {},
   "source": [
    "## Training"
   ]
  },
  {
   "cell_type": "code",
   "execution_count": 17,
   "metadata": {},
   "outputs": [
    {
     "name": "stdout",
     "output_type": "stream",
     "text": [
      "Train for 300 steps, validate for 50 steps\n",
      "Epoch 1/30\n",
      "300/300 - 32s - loss: 1.0972 - acc: 0.6310 - val_loss: 1.8844 - val_acc: 0.2525\n",
      "Epoch 2/30\n",
      "300/300 - 20s - loss: 0.6237 - acc: 0.7821 - val_loss: 1.1433 - val_acc: 0.5713\n",
      "Epoch 3/30\n",
      "300/300 - 19s - loss: 0.3930 - acc: 0.8640 - val_loss: 2.3754 - val_acc: 0.5763\n",
      "Epoch 4/30\n",
      "300/300 - 19s - loss: 0.3944 - acc: 0.8660 - val_loss: 0.8235 - val_acc: 0.7375\n",
      "Epoch 5/30\n",
      "300/300 - 19s - loss: 0.2226 - acc: 0.9229 - val_loss: 0.9750 - val_acc: 0.7387\n",
      "Epoch 6/30\n",
      "300/300 - 19s - loss: 0.2109 - acc: 0.9273 - val_loss: 1.0229 - val_acc: 0.7262\n",
      "Epoch 7/30\n",
      "300/300 - 19s - loss: 0.1780 - acc: 0.9369 - val_loss: 0.8266 - val_acc: 0.7613\n",
      "Epoch 8/30\n",
      "300/300 - 19s - loss: 0.1350 - acc: 0.9544 - val_loss: 0.8854 - val_acc: 0.7950\n",
      "Epoch 9/30\n",
      "300/300 - 19s - loss: 0.1109 - acc: 0.9654 - val_loss: 0.4620 - val_acc: 0.8363\n",
      "Epoch 10/30\n",
      "300/300 - 19s - loss: 0.0862 - acc: 0.9712 - val_loss: 1.3141 - val_acc: 0.7212\n",
      "Epoch 11/30\n",
      "300/300 - 19s - loss: 0.1147 - acc: 0.9610 - val_loss: 0.7739 - val_acc: 0.7987\n",
      "Epoch 12/30\n",
      "300/300 - 19s - loss: 0.1211 - acc: 0.9606 - val_loss: 0.5786 - val_acc: 0.8238\n",
      "Epoch 13/30\n",
      "300/300 - 19s - loss: 0.0520 - acc: 0.9804 - val_loss: 0.7611 - val_acc: 0.8138\n",
      "Epoch 14/30\n",
      "300/300 - 19s - loss: 0.0990 - acc: 0.9673 - val_loss: 2.1455 - val_acc: 0.6575\n",
      "Epoch 15/30\n",
      "300/300 - 19s - loss: 0.0878 - acc: 0.9719 - val_loss: 1.5484 - val_acc: 0.7588\n",
      "Epoch 16/30\n",
      "300/300 - 19s - loss: 0.0582 - acc: 0.9808 - val_loss: 0.6055 - val_acc: 0.8263\n",
      "Epoch 17/30\n",
      "300/300 - 19s - loss: 0.0520 - acc: 0.9842 - val_loss: 0.7882 - val_acc: 0.8037\n",
      "Epoch 18/30\n",
      "300/300 - 19s - loss: 0.0652 - acc: 0.9781 - val_loss: 1.0468 - val_acc: 0.7912\n",
      "Epoch 19/30\n",
      "300/300 - 19s - loss: 0.0333 - acc: 0.9887 - val_loss: 0.9974 - val_acc: 0.8037\n",
      "Epoch 20/30\n",
      "300/300 - 19s - loss: 0.0530 - acc: 0.9821 - val_loss: 0.7784 - val_acc: 0.8300\n",
      "Epoch 21/30\n",
      "300/300 - 19s - loss: 0.0496 - acc: 0.9856 - val_loss: 1.5125 - val_acc: 0.7300\n",
      "Epoch 22/30\n",
      "300/300 - 19s - loss: 0.1402 - acc: 0.9573 - val_loss: 0.7544 - val_acc: 0.8188\n",
      "Epoch 23/30\n",
      "300/300 - 19s - loss: 0.0623 - acc: 0.9823 - val_loss: 0.6339 - val_acc: 0.8300\n",
      "Epoch 24/30\n",
      "300/300 - 19s - loss: 0.0243 - acc: 0.9910 - val_loss: 0.6063 - val_acc: 0.8438\n",
      "Epoch 25/30\n",
      "300/300 - 19s - loss: 0.0083 - acc: 0.9975 - val_loss: 0.7433 - val_acc: 0.8325\n",
      "Epoch 26/30\n",
      "300/300 - 19s - loss: 0.0711 - acc: 0.9798 - val_loss: 2.5666 - val_acc: 0.6612\n",
      "Epoch 27/30\n",
      "300/300 - 19s - loss: 0.1037 - acc: 0.9673 - val_loss: 0.5662 - val_acc: 0.8500\n",
      "Epoch 28/30\n",
      "300/300 - 19s - loss: 0.0424 - acc: 0.9862 - val_loss: 0.5322 - val_acc: 0.8700\n",
      "Epoch 29/30\n",
      "300/300 - 19s - loss: 0.0028 - acc: 0.9998 - val_loss: 0.5124 - val_acc: 0.8788\n",
      "Epoch 30/30\n",
      "300/300 - 19s - loss: 0.0042 - acc: 0.9992 - val_loss: 0.6301 - val_acc: 0.8537\n"
     ]
    },
    {
     "data": {
      "text/plain": [
       "<tensorflow.python.keras.callbacks.History at 0x7f865006e6d0>"
      ]
     },
     "execution_count": 17,
     "metadata": {},
     "output_type": "execute_result"
    }
   ],
   "source": [
    "model.fit(train_datasets, steps_per_epoch=300, \n",
    "          validation_data=valid_datasets, validation_steps=50,\n",
    "          epochs=30, verbose=2, shuffle=True)"
   ]
  },
  {
   "cell_type": "markdown",
   "metadata": {},
   "source": [
    "## Save model"
   ]
  },
  {
   "cell_type": "code",
   "execution_count": 18,
   "metadata": {},
   "outputs": [],
   "source": [
    "model.save(\"flower.h5\", include_optimizer=False)"
   ]
  }
 ],
 "metadata": {
  "kernelspec": {
   "display_name": "Python 3",
   "language": "python",
   "name": "python3"
  },
  "language_info": {
   "codemirror_mode": {
    "name": "ipython",
    "version": 3
   },
   "file_extension": ".py",
   "mimetype": "text/x-python",
   "name": "python",
   "nbconvert_exporter": "python",
   "pygments_lexer": "ipython3",
   "version": "3.7.5"
  }
 },
 "nbformat": 4,
 "nbformat_minor": 2
}
